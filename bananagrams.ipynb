{
 "cells": [
  {
   "cell_type": "markdown",
   "metadata": {},
   "source": [
    "# Bananagrams-related explorations of words\n",
    "\n",
    "Using the enable wordlist from [puzzlers.org](http://www.puzzlers.org/dokuwiki/doku.php?id=solving:wordlists:about:start&s=enable1):"
   ]
  },
  {
   "cell_type": "code",
   "execution_count": 1,
   "metadata": {
    "collapsed": false
   },
   "outputs": [
    {
     "data": {
      "text/plain": [
       "172823"
      ]
     },
     "execution_count": 1,
     "metadata": {},
     "output_type": "execute_result"
    }
   ],
   "source": [
    "import os\n",
    "import re\n",
    "import sys\n",
    "\n",
    "from urllib.request import urlopen\n",
    "\n",
    "\n",
    "def words_from_file(f):\n",
    "    return [ line.strip().decode() for line in f ]\n",
    "\n",
    "# url = 'http://www.puzzlers.org/pub/wordlists/ospd.txt'\n",
    "# with urlopen(url) as f:\n",
    "#     ospd = words_from_file(f)\n",
    "\n",
    "# Get enable wordlist\n",
    "url = 'http://www.puzzlers.org/pub/wordlists/enable1.txt'\n",
    "with urlopen(url) as f:\n",
    "    enable = words_from_file(f)\n",
    "words = enable\n",
    "len(words)"
   ]
  },
  {
   "cell_type": "code",
   "execution_count": 2,
   "metadata": {
    "collapsed": true
   },
   "outputs": [],
   "source": [
    "def _match_slots(word, slots):\n",
    "    \"\"\"Check if a word matches substrings at a given index.\"\"\"\n",
    "    for idx, subs in slots.items():\n",
    "        if idx >= 0 and len(word) < (idx + len(subs)):\n",
    "            return False\n",
    "        if word[idx:idx+len(subs) or None] != subs:\n",
    "            return False\n",
    "    return True\n",
    "\n",
    "def find_words(length=None, min_length=None, max_length=None,\n",
    "               slots=None, end=None, start=None, mask=None):\n",
    "    \"\"\"Find words matching given criteria\n",
    "    \n",
    "    Parameters\n",
    "    ----------\n",
    "    \n",
    "    length: int\n",
    "        exact length match\n",
    "    min_length: int\n",
    "        minimum length of words\n",
    "    max_length: int\n",
    "        max length\n",
    "    start: str\n",
    "        text at the beginning of the word\n",
    "    end: str\n",
    "        text at the end of the word\n",
    "    mask: str of the form 'a**l*'\n",
    "        '*'-wildcard matching mask, will find substring with holes\n",
    "        at any point in the word\n",
    "    slots: dict(int:str)\n",
    "        dict of substrings at a given index.\n",
    "        slots={1:'x'} will match words where word[1] = 'x'\n",
    "    \"\"\"\n",
    "    if mask:\n",
    "        mask = re.compile(mask.replace('*', '.'))\n",
    "    for word in words:\n",
    "        n = len(word)\n",
    "        if length and n != length:\n",
    "            continue\n",
    "        if min_length and n < min_length:\n",
    "            continue\n",
    "        if max_length and n > max_length:\n",
    "            continue\n",
    "        if end and not word.endswith(end):\n",
    "            continue\n",
    "        if start and not word.startswith(start):\n",
    "            continue\n",
    "        if slots and not _match_slots(word, slots):\n",
    "            continue\n",
    "        if mask and not mask.search(word):\n",
    "            continue\n",
    "        yield word\n",
    "\n",
    "def print_words(word_list):\n",
    "    \"\"\"Print word list\"\"\"\n",
    "    n = 0\n",
    "    for word in word_list:\n",
    "        n += 1\n",
    "        print('%30s' % word)\n",
    "    print(\"%i words\" % n)"
   ]
  },
  {
   "cell_type": "markdown",
   "metadata": {},
   "source": [
    "12 letter words that start with r and end with d."
   ]
  },
  {
   "cell_type": "code",
   "execution_count": 3,
   "metadata": {
    "collapsed": false
   },
   "outputs": [
    {
     "name": "stdout",
     "output_type": "stream",
     "text": [
      "                  radiographed\n",
      "                  radiolabeled\n",
      "                  ratiocinated\n",
      "                  rationalised\n",
      "                  rationalized\n",
      "                  reaccredited\n",
      "                  reacquainted\n",
      "                  reafforested\n",
      "                  reaggregated\n",
      "                  reattributed\n",
      "                  reauthorized\n",
      "                  recalculated\n",
      "                  recalibrated\n",
      "                  rechallenged\n",
      "                  rechannelled\n",
      "                  rechristened\n",
      "                  reciprocated\n",
      "                  recirculated\n",
      "                  reclassified\n",
      "                  reconfigured\n",
      "                  reconnoitred\n",
      "                  reconsidered\n",
      "                  recriminated\n",
      "                  recultivated\n",
      "                  redetermined\n",
      "                  rediscounted\n",
      "                  rediscovered\n",
      "                  redistricted\n",
      "                  reduplicated\n",
      "                  reemphasized\n",
      "                  reengineered\n",
      "                  reformulated\n",
      "                  refrigerated\n",
      "                  regionalized\n",
      "                  regurgitated\n",
      "                  rehypnotized\n",
      "                  reidentified\n",
      "                  reincarnated\n",
      "                  reinnervated\n",
      "                  reinoculated\n",
      "                  reinstituted\n",
      "                  reintegrated\n",
      "                  reintroduced\n",
      "                  rekeyboarded\n",
      "                  relandscaped\n",
      "                  relinquished\n",
      "                  relubricated\n",
      "                  remonstrated\n",
      "                  rencountered\n",
      "                  rendezvoused\n",
      "                  renegotiated\n",
      "                  renormalized\n",
      "                  reorientated\n",
      "                  repositioned\n",
      "                  reprivatized\n",
      "                  reprogrammed\n",
      "                  reregistered\n",
      "                  resegregated\n",
      "                  resensitized\n",
      "                  resocialized\n",
      "                  resolidified\n",
      "                  restabilized\n",
      "                  restimulated\n",
      "                  restructured\n",
      "                  resuscitated\n",
      "                  retranslated\n",
      "                  retrogressed\n",
      "                  retrospected\n",
      "                  revaccinated\n",
      "                  reverberated\n",
      "                  revictualled\n",
      "                  romanticised\n",
      "                  romanticized\n",
      "                  rubbernecked\n",
      "74 words\n"
     ]
    }
   ],
   "source": [
    "print_words(find_words(length=12, start='r', end='d'))"
   ]
  },
  {
   "cell_type": "markdown",
   "metadata": {},
   "source": [
    "12 letter words that start with 'r' and end with 'd',\n",
    "identifying the ones that are made up of 're-[word]-ed'"
   ]
  },
  {
   "cell_type": "code",
   "execution_count": 4,
   "metadata": {
    "collapsed": false
   },
   "outputs": [
    {
     "name": "stdout",
     "output_type": "stream",
     "text": [
      "radiographed\n",
      "radiolabeled\n",
      "ratiocinated\n",
      "rationalised\n",
      "rationalized\n",
      "re-accredit-ed\n",
      "re-acquaint-ed\n",
      "re-afforest-ed\n",
      "re-aggregate-d\n",
      "re-attribute-d\n",
      "re-authorize-d\n",
      "re-calculate-d\n",
      "re-calibrate-d\n",
      "re-challenge-d\n",
      "rechannelled\n",
      "re-christen-ed\n",
      "reciprocated\n",
      "re-circulate-d\n",
      "reclassified\n",
      "re-configure-d\n",
      "reconnoitred\n",
      "re-consider-ed\n",
      "re-criminate-d\n",
      "re-cultivate-d\n",
      "re-determine-d\n",
      "re-discount-ed\n",
      "re-discover-ed\n",
      "re-district-ed\n",
      "re-duplicate-d\n",
      "re-emphasize-d\n",
      "re-engineer-ed\n",
      "re-formulate-d\n",
      "refrigerated\n",
      "regionalized\n",
      "regurgitated\n",
      "re-hypnotize-d\n",
      "reidentified\n",
      "re-incarnate-d\n",
      "re-innervate-d\n",
      "re-inoculate-d\n",
      "re-institute-d\n",
      "re-integrate-d\n",
      "re-introduce-d\n",
      "re-keyboard-ed\n",
      "re-landscape-d\n",
      "relinquished\n",
      "re-lubricate-d\n",
      "remonstrated\n",
      "rencountered\n",
      "rendezvoused\n",
      "re-negotiate-d\n",
      "re-normalize-d\n",
      "re-orientate-d\n",
      "re-position-ed\n",
      "re-privatize-d\n",
      "re-programme-d\n",
      "re-register-ed\n",
      "re-segregate-d\n",
      "re-sensitize-d\n",
      "re-socialize-d\n",
      "resolidified\n",
      "re-stabilize-d\n",
      "re-stimulate-d\n",
      "re-structure-d\n",
      "resuscitated\n",
      "re-translate-d\n",
      "retrogressed\n",
      "retrospected\n",
      "re-vaccinate-d\n",
      "reverberated\n",
      "revictualled\n",
      "romanticised\n",
      "romanticized\n",
      "rubbernecked\n",
      "48 26 74\n"
     ]
    }
   ],
   "source": [
    "subwords = 0\n",
    "not_subwords = 0\n",
    "\n",
    "for word in find_words(end='d', length=12, start='r'):\n",
    "    if not word.startswith('re') and word.endswith('ed'):\n",
    "        print(word)\n",
    "        not_subwords += 1\n",
    "        continue\n",
    "    \n",
    "    subword1 = word[2:-2]\n",
    "    subword2 = word[2:-1]\n",
    "    if subword1 in words:\n",
    "        subwords += 1\n",
    "        print('re-' + subword1 + '-ed')\n",
    "    elif subword2 in words:\n",
    "        subwords += 1\n",
    "        print('re-' + subword2 + '-d')\n",
    "    else:\n",
    "        not_subwords += 1\n",
    "        print(word)\n",
    "\n",
    "print(subwords, not_subwords, subwords + not_subwords)"
   ]
  },
  {
   "cell_type": "markdown",
   "metadata": {},
   "source": [
    "Words that end in '-ship' of length at least 10"
   ]
  },
  {
   "cell_type": "code",
   "execution_count": 5,
   "metadata": {
    "collapsed": false
   },
   "outputs": [
    {
     "name": "stdout",
     "output_type": "stream",
     "text": [
      "                accountantship\n",
      "              acquaintanceship\n",
      "                    airmanship\n",
      "                ambassadorship\n",
      "                anticensorship\n",
      "                   apostleship\n",
      "                apprenticeship\n",
      "                   artisanship\n",
      "                 assistantship\n",
      "                 associateship\n",
      "                   athwartship\n",
      "                  attorneyship\n",
      "                    authorship\n",
      "                   bailiffship\n",
      "                    battleship\n",
      "                bipartisanship\n",
      "                  brinkmanship\n",
      "                 brinksmanship\n",
      "                   captainship\n",
      "                  cardinalship\n",
      "                    censorship\n",
      "                  chairmanship\n",
      "                  championship\n",
      "                chancellorship\n",
      "                 chieftainship\n",
      "                 churchmanship\n",
      "                   citizenship\n",
      "                  coauthorship\n",
      "                 colleagueship\n",
      "                 collectorship\n",
      "                 commandership\n",
      "              commissionership\n",
      "                 companionship\n",
      "               comptrollership\n",
      "                   comradeship\n",
      "               connoisseurship\n",
      "               conservatorship\n",
      "                    consulship\n",
      "                consultantship\n",
      "                  consumership\n",
      "                 containership\n",
      "                controllership\n",
      "                 copartnership\n",
      "              coproprietorship\n",
      "                 cosponsorship\n",
      "                councillorship\n",
      "                 counselorship\n",
      "                    cousinship\n",
      "                 craftsmanship\n",
      "                   curatorship\n",
      "                 custodianship\n",
      "                    dealership\n",
      "                  dictatorship\n",
      "                  directorship\n",
      "                  discipleship\n",
      "               distributorship\n",
      "                    doctorship\n",
      "                 draftsmanship\n",
      "                    duennaship\n",
      "                    editorship\n",
      "                   emperorship\n",
      "              entrepreneurship\n",
      "                  executorship\n",
      "                    externship\n",
      "                    factorship\n",
      "                    fellowship\n",
      "                  followership\n",
      "                   foremanship\n",
      "                    friendship\n",
      "                  gamesmanship\n",
      "                   generalship\n",
      "                  governorship\n",
      "                 grantsmanship\n",
      "                  guardianship\n",
      "             handcraftsmanship\n",
      "                headmastership\n",
      "                  helmsmanship\n",
      "                  horsemanship\n",
      "                 inspectorship\n",
      "                instructorship\n",
      "                    internship\n",
      "             interrelationship\n",
      "                 landownership\n",
      "                  laureateship\n",
      "                    leadership\n",
      "                   lectureship\n",
      "                    legateship\n",
      "                legislatorship\n",
      "                 librarianship\n",
      "                   lifemanship\n",
      "                  listenership\n",
      "                   managership\n",
      "                  marksmanship\n",
      "                   marshalship\n",
      "                    mastership\n",
      "                    mediumship\n",
      "                    membership\n",
      "                    mentorship\n",
      "                   messiahship\n",
      "                 moderatorship\n",
      "                   monitorship\n",
      "                  musicianship\n",
      "                 nonmembership\n",
      "               nonpartisanship\n",
      "                   oarsmanship\n",
      "                 ombudsmanship\n",
      "               outdoorsmanship\n",
      "                  overlordship\n",
      "                  partisanship\n",
      "                   partnership\n",
      "                    pastorship\n",
      "                    penmanship\n",
      "                postmastership\n",
      "                   praetorship\n",
      "                 precentorship\n",
      "                 preceptorship\n",
      "                   premiership\n",
      "                 presidentship\n",
      "                   primateship\n",
      "                    princeship\n",
      "                 principalship\n",
      "                 proconsulship\n",
      "                   proctorship\n",
      "                 professorship\n",
      "                proprietorship\n",
      "                 protectorship\n",
      "                    readership\n",
      "                  receivership\n",
      "                    rectorship\n",
      "                  relationship\n",
      "                  salesmanship\n",
      "                   scholarship\n",
      "                    seamanship\n",
      "                 secretaryship\n",
      "                   senatorship\n",
      "                   showmanship\n",
      "                   soldiership\n",
      "                 solicitorship\n",
      "                   speakership\n",
      "                 spectatorship\n",
      "                 spokesmanship\n",
      "                   sponsorship\n",
      "                 sportsmanship\n",
      "               stadtholdership\n",
      "                 statesmanship\n",
      "                   stewardship\n",
      "                   studentship\n",
      "                    suretyship\n",
      "                  survivorship\n",
      "                 swordsmanship\n",
      "                   traineeship\n",
      "                 treasurership\n",
      "                   tribuneship\n",
      "                   trusteeship\n",
      "                   viceroyship\n",
      "                    viewership\n",
      "                    viziership\n",
      "                    wardenship\n",
      "                  watermanship\n",
      "                   workmanship\n",
      "160 words\n"
     ]
    }
   ],
   "source": [
    "print_words(find_words(end='ship', min_length=10))"
   ]
  },
  {
   "cell_type": "markdown",
   "metadata": {},
   "source": [
    "Words of length at least 8, ending with 'p', where the 6th letter from the end is 'r':"
   ]
  },
  {
   "cell_type": "code",
   "execution_count": 6,
   "metadata": {
    "collapsed": false,
    "scrolled": false
   },
   "outputs": [
    {
     "name": "stdout",
     "output_type": "stream",
     "text": [
      "                      airstrip\n",
      "                   athwartship\n",
      "                     carrottop\n",
      "                     clerkship\n",
      "                     courtship\n",
      "                   dipterocarp\n",
      "                      earlship\n",
      "                    externship\n",
      "                      firedamp\n",
      "                      firetrap\n",
      "                      guruship\n",
      "                      hardship\n",
      "                    intergroup\n",
      "                    internship\n",
      "                    intertroop\n",
      "                   lectureship\n",
      "                      lordship\n",
      "                     microchip\n",
      "                  overlordship\n",
      "                     oversleep\n",
      "                     overtrump\n",
      "                      paradrop\n",
      "                      pericarp\n",
      "                  postworkshop\n",
      "                 secretaryship\n",
      "                     sharecrop\n",
      "                     shortstop\n",
      "                     sporocarp\n",
      "                   stewardship\n",
      "                     storeship\n",
      "                    supergroup\n",
      "                    supersharp\n",
      "                     vibraharp\n",
      "                      wardship\n",
      "                      workshop\n",
      "35 words\n"
     ]
    }
   ],
   "source": [
    "print_words(find_words(end='p', min_length=8, slots={-6: 'r'}))"
   ]
  },
  {
   "cell_type": "markdown",
   "metadata": {},
   "source": [
    "All words with 'x' two letters before 'y', with max length 6:"
   ]
  },
  {
   "cell_type": "code",
   "execution_count": 7,
   "metadata": {
    "collapsed": false
   },
   "outputs": [
    {
     "name": "stdout",
     "output_type": "stream",
     "text": [
      "                        fixity\n",
      "                        foxily\n",
      "                        laxity\n",
      "                        luxury\n",
      "                        saxony\n",
      "                        sexily\n",
      "                        waxily\n",
      "                         xylyl\n",
      "                        xylyls\n",
      "9 words\n"
     ]
    }
   ],
   "source": [
    "print_words(find_words(mask='x**y', max_length=6))"
   ]
  },
  {
   "cell_type": "markdown",
   "metadata": {},
   "source": [
    "All words with 'q' and not 'qu':"
   ]
  },
  {
   "cell_type": "code",
   "execution_count": 8,
   "metadata": {
    "collapsed": false
   },
   "outputs": [
    {
     "data": {
      "text/plain": [
       "['buqsha',\n",
       " 'buqshas',\n",
       " 'faqir',\n",
       " 'faqirs',\n",
       " 'qaid',\n",
       " 'qaids',\n",
       " 'qanat',\n",
       " 'qanats',\n",
       " 'qat',\n",
       " 'qats',\n",
       " 'qindar',\n",
       " 'qindarka',\n",
       " 'qindars',\n",
       " 'qintar',\n",
       " 'qintars',\n",
       " 'qiviut',\n",
       " 'qiviuts',\n",
       " 'qoph',\n",
       " 'qophs',\n",
       " 'qwerty',\n",
       " 'qwertys',\n",
       " 'sheqalim',\n",
       " 'sheqel',\n",
       " 'suq',\n",
       " 'suqs',\n",
       " 'tranq',\n",
       " 'tranqs',\n",
       " 'umiaq',\n",
       " 'umiaqs']"
      ]
     },
     "execution_count": 8,
     "metadata": {},
     "output_type": "execute_result"
    }
   ],
   "source": [
    "haveq = [ w for w in words if 'q' in w ]\n",
    "qnou = [ w for w in haveq if 'qu' not in w ]\n",
    "qnou"
   ]
  },
  {
   "cell_type": "markdown",
   "metadata": {},
   "source": [
    "# Distribution of word lengths"
   ]
  },
  {
   "cell_type": "code",
   "execution_count": 9,
   "metadata": {
    "collapsed": true
   },
   "outputs": [],
   "source": [
    "%matplotlib inline\n",
    "import numpy as np\n",
    "import matplotlib.pyplot as plt\n",
    "try:\n",
    "    import seaborn\n",
    "except ImportError:\n",
    "    print(\"No seaborn, plots will be less pretty\")\n",
    "    pass"
   ]
  },
  {
   "cell_type": "code",
   "execution_count": 10,
   "metadata": {
    "collapsed": false
   },
   "outputs": [
    {
     "data": {
      "text/plain": [
       "array([172823, 172823, 172727, 171755, 167852, 159216, 143984, 120875,\n",
       "        92455,  67582,  47280,  31776,  20418,  12591,   7464,   4272,\n",
       "         2329,   1202,    608,    279,    119,     57,     27,     14,\n",
       "            5,      3,      3,      1,      0])"
      ]
     },
     "execution_count": 10,
     "metadata": {},
     "output_type": "execute_result"
    }
   ],
   "source": [
    "lengths = np.array([len(w) for w in words])\n",
    "lengths.sort()\n",
    "counts = np.bincount(lengths)\n",
    "total_counts = np.cumsum(counts)\n",
    "total_counts\n",
    "counts_at_least_n = len(words) - total_counts\n",
    "counts_at_least_n"
   ]
  },
  {
   "cell_type": "code",
   "execution_count": 11,
   "metadata": {
    "collapsed": false
   },
   "outputs": [
    {
     "data": {
      "image/png": "[encoded data removed]",
      "text/plain": [
       "<matplotlib.figure.Figure at 0x11001cf28>"
      ]
     },
     "metadata": {
      "image/png": {
       "height": 366,
       "width": 516
      }
     },
     "output_type": "display_data"
    }
   ],
   "source": [
    "plt.hist(lengths, bins=len(counts)-2)\n",
    "plt.xlabel(\"length\")\n",
    "plt.ylabel(\"number of words\")\n",
    "plt.title(\"Distribution of word lengths\");"
   ]
  },
  {
   "cell_type": "code",
   "execution_count": 12,
   "metadata": {
    "collapsed": false
   },
   "outputs": [
    {
     "data": {
      "image/png": "[encoded data removed]",
      "text/plain": [
       "<matplotlib.figure.Figure at 0x11001cda0>"
      ]
     },
     "metadata": {
      "image/png": {
       "height": 366,
       "width": 521
      }
     },
     "output_type": "display_data"
    }
   ],
   "source": [
    "plt.plot(counts_at_least_n)\n",
    "plt.title(\"Words at least a given length\")\n",
    "plt.xlabel(\"length\")\n",
    "plt.ylabel(\"words\");"
   ]
  },
  {
   "cell_type": "markdown",
   "metadata": {},
   "source": [
    "Zooming in on the tail:"
   ]
  },
  {
   "cell_type": "code",
   "execution_count": 13,
   "metadata": {
    "collapsed": false
   },
   "outputs": [
    {
     "data": {
      "image/png": "[encoded data removed]",
      "text/plain": [
       "<matplotlib.figure.Figure at 0x1107a2518>"
      ]
     },
     "metadata": {
      "image/png": {
       "height": 366,
       "width": 505
      }
     },
     "output_type": "display_data"
    }
   ],
   "source": [
    "n=20\n",
    "plt.plot(1 + np.arange(n-1, len(counts_at_least_n)), counts_at_least_n[n-1:])\n",
    "plt.title(\"Words at least a given length\")\n",
    "plt.xlabel(\"length\")\n",
    "plt.ylabel(\"words\");"
   ]
  },
  {
   "cell_type": "markdown",
   "metadata": {},
   "source": [
    "So there are 120 words of at least 21 characters, and ~25 at least 24.\n",
    "The longest word is 28 characters.\n",
    "\n",
    "These are the longest 100 words:"
   ]
  },
  {
   "cell_type": "code",
   "execution_count": 14,
   "metadata": {
    "collapsed": false
   },
   "outputs": [
    {
     "name": "stdout",
     "output_type": "stream",
     "text": [
      "         electroencephalograph\n",
      "         electromyographically\n",
      "         electroretinographies\n",
      "         establishmentarianism\n",
      "         extraterritorialities\n",
      "         hypercholesterolemias\n",
      "         hypersusceptibilities\n",
      "         immunocytochemistries\n",
      "         immunoelectrophoreses\n",
      "         immunoelectrophoresis\n",
      "         immunoelectrophoretic\n",
      "         incomprehensibilities\n",
      "         indistinguishableness\n",
      "         institutionalizations\n",
      "         interchangeablenesses\n",
      "         interconvertibilities\n",
      "         internationalizations\n",
      "         intersubstitutability\n",
      "         meningoencephalitides\n",
      "         microminiaturizations\n",
      "         multidimensionalities\n",
      "         neuroendocrinological\n",
      "         neuroendocrinologists\n",
      "         nondenominationalisms\n",
      "         otorhinolaryngologies\n",
      "         otorhinolaryngologist\n",
      "         overcommercialization\n",
      "         overintellectualizing\n",
      "         phosphoglyceraldehyde\n",
      "         photolithographically\n",
      "         photophosphorylations\n",
      "         pseudocholinesterases\n",
      "         pseudosophistications\n",
      "         psychopharmacological\n",
      "         psychopharmacologists\n",
      "         psychophysiologically\n",
      "         psychotherapeutically\n",
      "         stereomicroscopically\n",
      "         straightforwardnesses\n",
      "         tetrahydrocannabinols\n",
      "         unconstitutionalities\n",
      "         undemonstrativenesses\n",
      "         unexceptionablenesses\n",
      "        carboxymethylcellulose\n",
      "        constitutionalizations\n",
      "        countercountermeasures\n",
      "        counterinterpretations\n",
      "        counterrevolutionaries\n",
      "        deinstitutionalization\n",
      "        disestablishmentarians\n",
      "        electroencephalographs\n",
      "        electroencephalography\n",
      "        electrophysiologically\n",
      "        encephalomyocarditises\n",
      "        establishmentarianisms\n",
      "        hexamethylenetetramine\n",
      "        immunohistochemistries\n",
      "        incomprehensiblenesses\n",
      "        indistinguishabilities\n",
      "        intercomprehensibility\n",
      "        keratoconjunctivitides\n",
      "        keratoconjunctivitises\n",
      "        microspectrophotometer\n",
      "        microspectrophotometry\n",
      "        nonrepresentationalism\n",
      "        otorhinolaryngological\n",
      "        otorhinolaryngologists\n",
      "        overcommercializations\n",
      "        philoprogenitivenesses\n",
      "        phosphoglyceraldehydes\n",
      "        reinstitutionalization\n",
      "        spectrophotometrically\n",
      "        unrepresentativenesses\n",
      "       carboxymethylcelluloses\n",
      "       deinstitutionalizations\n",
      "       dichlorodifluoromethane\n",
      "       electroencephalographer\n",
      "       electroencephalographic\n",
      "       hexamethylenetetramines\n",
      "       indistinguishablenesses\n",
      "       intersubstitutabilities\n",
      "       microspectrophotometers\n",
      "       microspectrophotometric\n",
      "       nonrepresentationalisms\n",
      "       overintellectualization\n",
      "       reinstitutionalizations\n",
      "      dichlorodifluoromethanes\n",
      "      electrocardiographically\n",
      "      electroencephalographers\n",
      "      electroencephalographies\n",
      "      intercomprehensibilities\n",
      "      microelectrophoretically\n",
      "      microspectrophotometries\n",
      "      overintellectualizations\n",
      "      phosphatidylethanolamine\n",
      "     immunoelectrophoretically\n",
      "     phosphatidylethanolamines\n",
      "   electroencephalographically\n",
      "   ethylenediaminetetraacetate\n",
      "  ethylenediaminetetraacetates\n",
      "100 words\n"
     ]
    }
   ],
   "source": [
    "long_words = sorted(words, key=len)\n",
    "print_words(long_words[-100:])"
   ]
  },
  {
   "cell_type": "markdown",
   "metadata": {},
   "source": [
    "All the words of at least 20 characters:"
   ]
  },
  {
   "cell_type": "code",
   "execution_count": 15,
   "metadata": {
    "collapsed": false
   },
   "outputs": [
    {
     "name": "stdout",
     "output_type": "stream",
     "text": [
      "         acetylcholinesterases\n",
      "         adrenocorticosteroids\n",
      "         adrenocorticotrophins\n",
      "         anthropomorphizations\n",
      "         antiauthoritarianisms\n",
      "         antiferromagnetically\n",
      "         buckminsterfullerenes\n",
      "        carboxymethylcellulose\n",
      "       carboxymethylcelluloses\n",
      "         clinicopathologically\n",
      "         compartmentalizations\n",
      "         constitutionalization\n",
      "        constitutionalizations\n",
      "         contemporaneousnesses\n",
      "         countercountermeasure\n",
      "        countercountermeasures\n",
      "         counterdemonstrations\n",
      "         counterinterpretation\n",
      "        counterinterpretations\n",
      "        counterrevolutionaries\n",
      "        deinstitutionalization\n",
      "       deinstitutionalizations\n",
      "         dendrochronologically\n",
      "       dichlorodifluoromethane\n",
      "      dichlorodifluoromethanes\n",
      "         disadvantageousnesses\n",
      "         disestablishmentarian\n",
      "        disestablishmentarians\n",
      "      electrocardiographically\n",
      "         electrocardiographies\n",
      "         electroencephalograms\n",
      "         electroencephalograph\n",
      "       electroencephalographer\n",
      "      electroencephalographers\n",
      "       electroencephalographic\n",
      "   electroencephalographically\n",
      "      electroencephalographies\n",
      "        electroencephalographs\n",
      "        electroencephalography\n",
      "         electromyographically\n",
      "        electrophysiologically\n",
      "         electroretinographies\n",
      "        encephalomyocarditises\n",
      "         establishmentarianism\n",
      "        establishmentarianisms\n",
      "   ethylenediaminetetraacetate\n",
      "  ethylenediaminetetraacetates\n",
      "         extraterritorialities\n",
      "        hexamethylenetetramine\n",
      "       hexamethylenetetramines\n",
      "         hypercholesterolemias\n",
      "         hypersusceptibilities\n",
      "         immunocytochemistries\n",
      "         immunoelectrophoreses\n",
      "         immunoelectrophoresis\n",
      "         immunoelectrophoretic\n",
      "     immunoelectrophoretically\n",
      "        immunohistochemistries\n",
      "         incomprehensibilities\n",
      "        incomprehensiblenesses\n",
      "        indistinguishabilities\n",
      "         indistinguishableness\n",
      "       indistinguishablenesses\n",
      "         institutionalizations\n",
      "         interchangeablenesses\n",
      "      intercomprehensibilities\n",
      "        intercomprehensibility\n",
      "         interconvertibilities\n",
      "         internationalizations\n",
      "       intersubstitutabilities\n",
      "         intersubstitutability\n",
      "        keratoconjunctivitides\n",
      "        keratoconjunctivitises\n",
      "         meningoencephalitides\n",
      "      microelectrophoretically\n",
      "         microminiaturizations\n",
      "        microspectrophotometer\n",
      "       microspectrophotometers\n",
      "       microspectrophotometric\n",
      "      microspectrophotometries\n",
      "        microspectrophotometry\n",
      "         multidimensionalities\n",
      "         neuroendocrinological\n",
      "         neuroendocrinologists\n",
      "         nondenominationalisms\n",
      "        nonrepresentationalism\n",
      "       nonrepresentationalisms\n",
      "        otorhinolaryngological\n",
      "         otorhinolaryngologies\n",
      "         otorhinolaryngologist\n",
      "        otorhinolaryngologists\n",
      "         overcommercialization\n",
      "        overcommercializations\n",
      "       overintellectualization\n",
      "      overintellectualizations\n",
      "         overintellectualizing\n",
      "        philoprogenitivenesses\n",
      "      phosphatidylethanolamine\n",
      "     phosphatidylethanolamines\n",
      "         phosphoglyceraldehyde\n",
      "        phosphoglyceraldehydes\n",
      "         photolithographically\n",
      "         photophosphorylations\n",
      "         pseudocholinesterases\n",
      "         pseudosophistications\n",
      "         psychopharmacological\n",
      "         psychopharmacologists\n",
      "         psychophysiologically\n",
      "         psychotherapeutically\n",
      "        reinstitutionalization\n",
      "       reinstitutionalizations\n",
      "        spectrophotometrically\n",
      "         stereomicroscopically\n",
      "         straightforwardnesses\n",
      "         tetrahydrocannabinols\n",
      "         unconstitutionalities\n",
      "         undemonstrativenesses\n",
      "         unexceptionablenesses\n",
      "        unrepresentativenesses\n",
      "119 words\n"
     ]
    }
   ],
   "source": [
    "print_words(find_words(min_length=21))"
   ]
  }
 ],
 "metadata": {
  "gist_id": "282276dca3eefabb2317",
  "kernelspec": {
   "display_name": "Python 3",
   "language": "python",
   "name": "python3"
  },
  "language_info": {
   "codemirror_mode": {
    "name": "ipython",
    "version": 3
   },
   "file_extension": ".py",
   "mimetype": "text/x-python",
   "name": "python",
   "nbconvert_exporter": "python",
   "pygments_lexer": "ipython3",
   "version": "3.5.1"
  }
 },
 "nbformat": 4,
 "nbformat_minor": 0
}
